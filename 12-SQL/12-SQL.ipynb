{
 "cells": [
  {
   "cell_type": "markdown",
   "id": "ed8fa137",
   "metadata": {
    "slideshow": {
     "slide_type": "slide"
    }
   },
   "source": [
    "<br/>\n",
    "<img src=\"images/cd-logo-blue-600x600.png\" alt=\"\" width=\"130px\" align=\"left\"/>\n",
    "<img src=\"images/cd-logo-blue-600x600.png\" alt=\"\" width=\"130px\" align=\"right\"/>\n",
    "<div align=\"center\">\n",
    "<h2>Bootcamp Data Science - Módulo 3</h2><br/>\n",
    "<h1>Python y SQL</h1>\n",
    "<br/><br/>\n",
    "    <b>Instructor Principal:</b> Patricio Olivares polivares@codingdojo.cl <br/>\n",
    "    <b>Instructor Asistente:</b> Jesús Ortiz jortiz@codingdojo.cl<br/><br/>\n",
    "    <b>Coding Dojo</b>\n",
    "</div>\n",
    "<br>\n"
   ]
  },
  {
   "cell_type": "markdown",
   "id": "9d349ab6",
   "metadata": {},
   "source": [
    "# SQL Alchemy\n",
    "<img src=\"images/sqla_logo.png\" width=\"300px\">"
   ]
  },
  {
   "cell_type": "markdown",
   "id": "b97a7e4c",
   "metadata": {},
   "source": [
    "- Biblioteca creada como interfaz de conexión entre el lenguaje Python y bases de datos relacionales SQL.\n",
    "- Esta interfaz tiene un alto grado de compatibilidad con la biblioteca pandas.\n",
    "- Soporta múltiples motores de base de datos, tales como SQLite, Postgresql, MySQL, Oracle, MS-SQL, Firebird, Sybase, etc.\n",
    "-  Si está trabajando en su entorno local, previo a su importación debe ser **instalada** \n",
    "    - ```pip install sqlalchemy``` si usa ```pip```\n",
    "    - ```conda install sqlalchemy``` si usa ```conda```"
   ]
  },
  {
   "cell_type": "code",
   "execution_count": 1,
   "id": "b6d2a5da",
   "metadata": {},
   "outputs": [
    {
     "name": "stdout",
     "output_type": "stream",
     "text": [
      "2022-10-06 21:13:39,727 INFO sqlalchemy.engine.Engine \n",
      "    select * from Cliente\n",
      "\n",
      "2022-10-06 21:13:39,728 INFO sqlalchemy.engine.Engine [raw sql] ()\n"
     ]
    },
    {
     "data": {
      "text/html": [
       "<div>\n",
       "<style scoped>\n",
       "    .dataframe tbody tr th:only-of-type {\n",
       "        vertical-align: middle;\n",
       "    }\n",
       "\n",
       "    .dataframe tbody tr th {\n",
       "        vertical-align: top;\n",
       "    }\n",
       "\n",
       "    .dataframe thead th {\n",
       "        text-align: right;\n",
       "    }\n",
       "</style>\n",
       "<table border=\"1\" class=\"dataframe\">\n",
       "  <thead>\n",
       "    <tr style=\"text-align: right;\">\n",
       "      <th></th>\n",
       "      <th>id</th>\n",
       "      <th>nombre</th>\n",
       "      <th>run</th>\n",
       "      <th>dv</th>\n",
       "    </tr>\n",
       "  </thead>\n",
       "  <tbody>\n",
       "    <tr>\n",
       "      <th>0</th>\n",
       "      <td>1</td>\n",
       "      <td>Patricio</td>\n",
       "      <td>11111111.0</td>\n",
       "      <td>1</td>\n",
       "    </tr>\n",
       "    <tr>\n",
       "      <th>1</th>\n",
       "      <td>2</td>\n",
       "      <td>Pablo</td>\n",
       "      <td>22222222.0</td>\n",
       "      <td>2</td>\n",
       "    </tr>\n",
       "    <tr>\n",
       "      <th>2</th>\n",
       "      <td>3</td>\n",
       "      <td>Jorge</td>\n",
       "      <td>33333333.0</td>\n",
       "      <td>3</td>\n",
       "    </tr>\n",
       "    <tr>\n",
       "      <th>3</th>\n",
       "      <td>4</td>\n",
       "      <td>Sebastián</td>\n",
       "      <td>44444444.0</td>\n",
       "      <td>4</td>\n",
       "    </tr>\n",
       "    <tr>\n",
       "      <th>4</th>\n",
       "      <td>5</td>\n",
       "      <td>Patricio</td>\n",
       "      <td>55555555.0</td>\n",
       "      <td>5</td>\n",
       "    </tr>\n",
       "    <tr>\n",
       "      <th>5</th>\n",
       "      <td>6</td>\n",
       "      <td>Pepe</td>\n",
       "      <td>NaN</td>\n",
       "      <td>6</td>\n",
       "    </tr>\n",
       "  </tbody>\n",
       "</table>\n",
       "</div>"
      ],
      "text/plain": [
       "   id     nombre         run  dv\n",
       "0   1   Patricio  11111111.0   1\n",
       "1   2      Pablo  22222222.0   2\n",
       "2   3      Jorge  33333333.0   3\n",
       "3   4  Sebastián  44444444.0   4\n",
       "4   5   Patricio  55555555.0   5\n",
       "5   6       Pepe         NaN   6"
      ]
     },
     "execution_count": 1,
     "metadata": {},
     "output_type": "execute_result"
    }
   ],
   "source": [
    "from sqlalchemy import create_engine\n",
    "import pandas as pd\n",
    "\n",
    "# Crea variable para conexión con motor de base de datos. Si la base de datos no existe, se crea\n",
    "engine = create_engine('sqlite:///data/test.db', echo=True)\n",
    "# Conexión con base de datos\n",
    "conn = engine.connect()\n",
    "\n",
    "# Se utiliza la variable de conexión con el motor para realizar queries SQL sobre la base de datos\n",
    "query = '''\n",
    "    select * from Cliente\n",
    "'''\n",
    "\n",
    "df = pd.read_sql_query(query, engine)\n",
    "\n",
    "df"
   ]
  },
  {
   "cell_type": "code",
   "execution_count": 4,
   "id": "53f24321",
   "metadata": {},
   "outputs": [
    {
     "name": "stdout",
     "output_type": "stream",
     "text": [
      "2022-10-06 21:17:58,981 INFO sqlalchemy.engine.Engine \n",
      "    select * from Cliente\n",
      "\n",
      "2022-10-06 21:17:58,981 INFO sqlalchemy.engine.Engine [raw sql] ()\n",
      "   id    nombre       run  dv\n",
      "0   1  Patricio  11111111   1\n",
      "1   2     Pablo  22222222   2\n",
      "   id     nombre       run  dv\n",
      "0   3      Jorge  33333333   3\n",
      "1   4  Sebastián  44444444   4\n",
      "   id    nombre         run  dv\n",
      "0   5  Patricio  55555555.0   5\n",
      "1   6      Pepe         NaN   6\n"
     ]
    }
   ],
   "source": [
    "# Si deseas hacer lecturas de pequeños conjuntos de datos, se puede agregar \n",
    "# el parámetro chunk_size al método read_sql_query\n",
    "\n",
    "it = pd.read_sql_query(query, engine, chunksize=2)\n",
    "\n",
    "for i in it:\n",
    "    print(i)"
   ]
  },
  {
   "cell_type": "code",
   "execution_count": null,
   "id": "2a0a3261",
   "metadata": {
    "slideshow": {
     "slide_type": "skip"
    }
   },
   "outputs": [],
   "source": [
    "from IPython.core.display import HTML\n",
    "HTML(\"\"\"\n",
    "<style>\n",
    ".output_png {\n",
    "    display: table-cell;\n",
    "    text-align: center;\n",
    "    vertical-align: middle;\n",
    "}\n",
    "</style>\n",
    "\"\"\")\n",
    "#codigo extra, para que imagenes de matplotlib\n",
    "#estén centradas en las diapositivas, ejecutar antes de lanzar los ejemplos."
   ]
  }
 ],
 "metadata": {
  "celltoolbar": "Slideshow",
  "kernelspec": {
   "display_name": "Python 3 (ipykernel)",
   "language": "python",
   "name": "python3"
  },
  "language_info": {
   "codemirror_mode": {
    "name": "ipython",
    "version": 3
   },
   "file_extension": ".py",
   "mimetype": "text/x-python",
   "name": "python",
   "nbconvert_exporter": "python",
   "pygments_lexer": "ipython3",
   "version": "3.8.12"
  }
 },
 "nbformat": 4,
 "nbformat_minor": 5
}
